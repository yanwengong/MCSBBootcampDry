{
 "cells": [
  {
   "cell_type": "markdown",
   "metadata": {
    "slideshow": {
     "slide_type": "slide"
    }
   },
   "source": [
    "# 0.1 Overview\n",
    "\n",
    "## You have a protein sequence. \n",
    "\n",
    "### How do you find patterns in amino acid sequence?\n",
    "\n",
    "### How do you find the largest region of overlap between your protein and another protein?\n",
    "\n"
   ]
  },
  {
   "cell_type": "markdown",
   "metadata": {
    "slideshow": {
     "slide_type": "fragment"
    }
   },
   "source": [
    "After this course, you will be able to :\n",
    "1. Obtain data from online databases programmatically\n",
    "    - Specifically, PDB files from Protein Data Bank.\n",
    "2. Parse the data which is in the form of a text file\n",
    "    - Obtain the amino-acid sequences from the PDB file.\n",
    "3. Look for patterns in the amino acid sequence\n",
    "    - Plot the amino acid frequency of the protein at odd/even positions.\n",
    "4. Align two protein sequences.\n",
    "    - Find the largest region of overlap between 2 proteins."
   ]
  },
  {
   "cell_type": "markdown",
   "metadata": {
    "slideshow": {
     "slide_type": "subslide"
    }
   },
   "source": [
    "# 0.2 Specific programming related objectives\n",
    "\n",
    "1. What kind of language is `python`?\n",
    "1. Different ways of running `python`\n",
    "1. What is a `python` package? How to download?\n",
    "1. Basic data-types of Python (`int`, `float`, `str`, `list`, `dict`)\n",
    "1. Basic control elements (`for` loop, `while`, `if` statements)\n",
    "1. Basic plots (histogram, line plot, colors, axis labels, legend)\n",
    "1. How to do `MATLAB` or `R` stuff in Python\n",
    "1. When to not use `python`"
   ]
  },
  {
   "cell_type": "markdown",
   "metadata": {
    "slideshow": {
     "slide_type": "slide"
    }
   },
   "source": [
    "# 1. Why Python?\n",
    "\n",
    "<img src=\"imgs\\python_logo.png\" alt=\"Python symbol\" style=\"width: 200px;\"/>\n",
    "\n",
    "## Open source, general purpose, interpreted language\n",
    "\n",
    "## Easy to read, write \n",
    "   - Fast prototyping\n",
    "\n",
    "## Faster than MATLAB, R\n",
    "   - Great with strings\n",
    "   - Also do matrices, solving differential equations, interact with various databases, machine learning\n",
    "   - General purpose - Build websites, GUIs, games, etc.\n",
    "\n",
    "## There is a package to solve your problem!\n",
    "   - Packages:Python::Plugins:Firefox/Chrome\n",
    "   - `pip install <packagename>` e.g. `pip install numpy`\n"
   ]
  },
  {
   "cell_type": "markdown",
   "metadata": {
    "slideshow": {
     "slide_type": "slide"
    }
   },
   "source": [
    "# 2. How to start with Python?\n",
    "\n",
    "## Download a distribution (e.g. Anaconda)\n",
    "- Anaconda = Python + common packages\n",
    "\n",
    "## [Optional] Create a virtual environment \n",
    "\n",
    "- Avoid confusion with Python that Linux/macOS need to run\n",
    "- Work on different Python versions\n",
    "- Keep different projects separate\n",
    "\n",
    "## Start coding!"
   ]
  },
  {
   "cell_type": "markdown",
   "metadata": {
    "slideshow": {
     "slide_type": "slide"
    }
   },
   "source": [
    "# 3.1 Modes of Python\n",
    "\n",
    "## Code files\n",
    "\n",
    "<img src=\"gifs/using_code.gif\" alt=\"Python symbol\" style=\"width: 400px;\"/>\n",
    "\n",
    "\n",
    "\n",
    "- Long and involved projects\n",
    "- Submitting jobs on cluster"
   ]
  },
  {
   "cell_type": "markdown",
   "metadata": {
    "slideshow": {
     "slide_type": "subslide"
    }
   },
   "source": [
    "# 3.2\n",
    "\n",
    "## REPL\n",
    "\n",
    "<img src=\"gifs/using_code.gif\" alt=\"Python symbol\" style=\"width: 400px;\"/>\n",
    "\n",
    "# TODO replace GIF\n",
    "\n",
    "- Read-Eval-Print Loop\n",
    "- Very fast prototyping, especially on cluster etc"
   ]
  },
  {
   "cell_type": "markdown",
   "metadata": {
    "slideshow": {
     "slide_type": "subslide"
    }
   },
   "source": [
    "# 3.3\n",
    "\n",
    "## (Jupyter) Notebooks\n",
    "\n",
    "<img src=\"gifs/using_code.gif\" alt=\"Python symbol\" style=\"width: 400px;\"/>\n",
    "\n",
    "# TODO replace GIF\n",
    "\n",
    "- REPL + Markdown\n",
    "- Share with others who want to see your code, write reports\n",
    "- Reproducible research"
   ]
  },
  {
   "cell_type": "markdown",
   "metadata": {
    "slideshow": {
     "slide_type": "subslide"
    }
   },
   "source": [
    "# 3.4\n",
    "\n",
    "## Choosing a mode\n",
    "\n",
    "| Mode                |                                                When to use | When not to use             |\n",
    "|---------------------|:-----------------------------------------------------------|-----------------------------|\n",
    "| Code files          | - Long and involved codes<br> - Submitting jobs on cluster | Fast prototyping            |\n",
    "| REPL                | Very fast prototyping                                      | Any serious work            |\n",
    "| (Jupyter) notebooks | - Fast prototyping<br> - Embed links, images               | Long and involved codes<br> |"
   ]
  },
  {
   "cell_type": "markdown",
   "metadata": {
    "slideshow": {
     "slide_type": "slide"
    }
   },
   "source": [
    "# 4. Jupyter notebooks\n",
    "\n",
    "## 4.1 Uses Markdown for code + explanation in one document\n",
    "\n",
    "\n",
    "![Markdown syntax](imgs\\markdown_syntax.png)\n"
   ]
  },
  {
   "cell_type": "markdown",
   "metadata": {
    "slideshow": {
     "slide_type": "subslide"
    }
   },
   "source": [
    "## 4.2 Markdown rendered\n",
    "\n",
    "![Markdown render](imgs\\markdown_render.png)"
   ]
  },
  {
   "cell_type": "markdown",
   "metadata": {
    "slideshow": {
     "slide_type": "subslide"
    }
   },
   "source": [
    "## 4.3 Convert to other format easily\n",
    "<center><img src=\"imgs\\output_formats.png\" alt=\"Output format\" style=\"height: 400px;\"/></center>\n",
    "- Some formats may need LaTeX installed\n"
   ]
  },
  {
   "cell_type": "markdown",
   "metadata": {
    "slideshow": {
     "slide_type": "subslide"
    }
   },
   "source": [
    "## 4.4 Working with Jupyter\n",
    "\n",
    "### Start a Jupyter notebook\n",
    "\n",
    "From command line, do\n",
    "\n",
    "```sh\n",
    "jupyter notebook\n",
    "```"
   ]
  },
  {
   "cell_type": "markdown",
   "metadata": {
    "slideshow": {
     "slide_type": "fragment"
    }
   },
   "source": [
    "### Jupyter notebook and virtual environments\n",
    "\n",
    "Create environment\n",
    "\n",
    "```sh\n",
    "conda create -n myenv python=3.6\n",
    "conda activate myenv\n",
    "pip install package_name\n",
    "```"
   ]
  },
  {
   "cell_type": "markdown",
   "metadata": {
    "slideshow": {
     "slide_type": "fragment"
    }
   },
   "source": [
    "Create a Jupyter kernel associated with environment\n",
    "\n",
    "```sh\n",
    "conda activate myenv\n",
    "pip install --user ipykernel\n",
    "python -m ipykernel install --user --name=myenv_kernel\n",
    "```\n"
   ]
  },
  {
   "cell_type": "markdown",
   "metadata": {
    "slideshow": {
     "slide_type": "subslide"
    }
   },
   "source": [
    "## 4.5 Jupyter and version control\n",
    "\n",
    "### Option 1: Notebook format, `.ipynb`\n",
    "- `json` format\n",
    "- More verbose\n",
    "\n",
    "### Option 2: Convert to Rmarkdown format, `.Rmd`\n",
    "- Less verbose\n",
    "- Must convert back and forth\n",
    "\n",
    "First install `jupytext package`\n",
    "\n",
    "```sh\n",
    "pip install jupytext\n",
    "```\n",
    "\n",
    "Conversions to and from `.Rmd`\n",
    "\n",
    "```sh\n",
    "jupytext --to ipynb notebook.Rmd   # convert Rmd to ipynb\n",
    "jupytext --to rmarkdown notebook.ipynb   # convert ipynb to Rmd\n",
    "\n",
    "```"
   ]
  },
  {
   "cell_type": "markdown",
   "metadata": {
    "slideshow": {
     "slide_type": "slide"
    }
   },
   "source": [
    "# 5. Basic data types and syntax\n",
    "\n",
    "## 5.1 Integers (`int`) & Floats (`float`)\n",
    "Basically, numbers"
   ]
  },
  {
   "cell_type": "code",
   "execution_count": 1,
   "metadata": {
    "slideshow": {
     "slide_type": "fragment"
    }
   },
   "outputs": [
    {
     "name": "stdout",
     "output_type": "stream",
     "text": [
      "2\n"
     ]
    }
   ],
   "source": [
    "example_int = 2\n",
    "print(example_int)"
   ]
  },
  {
   "cell_type": "code",
   "execution_count": 2,
   "metadata": {
    "slideshow": {
     "slide_type": "fragment"
    }
   },
   "outputs": [
    {
     "name": "stdout",
     "output_type": "stream",
     "text": [
      "2.0\n"
     ]
    }
   ],
   "source": [
    "example_float = 2.0\n",
    "print(example_float)"
   ]
  },
  {
   "cell_type": "code",
   "execution_count": 3,
   "metadata": {
    "slideshow": {
     "slide_type": "fragment"
    }
   },
   "outputs": [
    {
     "name": "stdout",
     "output_type": "stream",
     "text": [
      "<class 'int'> <class 'float'>\n"
     ]
    }
   ],
   "source": [
    "print(type(example_int), type(example_float))"
   ]
  },
  {
   "cell_type": "code",
   "execution_count": 4,
   "metadata": {
    "slideshow": {
     "slide_type": "fragment"
    }
   },
   "outputs": [
    {
     "name": "stdout",
     "output_type": "stream",
     "text": [
      "4.0 <class 'float'>\n"
     ]
    }
   ],
   "source": [
    "x = example_int + example_float\n",
    "print(x, type(x))"
   ]
  },
  {
   "cell_type": "markdown",
   "metadata": {
    "slideshow": {
     "slide_type": "subslide"
    }
   },
   "source": [
    "## 5.1.2 Basic math\n"
   ]
  },
  {
   "cell_type": "code",
   "execution_count": 17,
   "metadata": {
    "slideshow": {
     "slide_type": "fragment"
    }
   },
   "outputs": [
    {
     "name": "stdout",
     "output_type": "stream",
     "text": [
      "3\n",
      "1\n"
     ]
    }
   ],
   "source": [
    "print(1 + 2)\n",
    "print(example_int - 1)"
   ]
  },
  {
   "cell_type": "code",
   "execution_count": 18,
   "metadata": {
    "slideshow": {
     "slide_type": "fragment"
    }
   },
   "outputs": [
    {
     "name": "stdout",
     "output_type": "stream",
     "text": [
      "6\n"
     ]
    }
   ],
   "source": [
    "print(3 * 2)"
   ]
  },
  {
   "cell_type": "code",
   "execution_count": 19,
   "metadata": {
    "slideshow": {
     "slide_type": "fragment"
    }
   },
   "outputs": [
    {
     "name": "stdout",
     "output_type": "stream",
     "text": [
      "1.5 1.5\n"
     ]
    }
   ],
   "source": [
    "print(\"Dividing by int is same as dividing by float\", 3 / 2, 3 / 2.0)"
   ]
  },
  {
   "cell_type": "code",
   "execution_count": 22,
   "metadata": {
    "slideshow": {
     "slide_type": "fragment"
    }
   },
   "outputs": [
    {
     "name": "stdout",
     "output_type": "stream",
     "text": [
      "Get quotient with // and remainder with percent sign\n",
      "1 3\n"
     ]
    }
   ],
   "source": [
    "print(\"Get quotient with // and remainder with percent sign\")\n",
    "print(7//4, 7%4)"
   ]
  },
  {
   "cell_type": "code",
   "execution_count": 25,
   "metadata": {
    "slideshow": {
     "slide_type": "fragment"
    }
   },
   "outputs": [
    {
     "name": "stdout",
     "output_type": "stream",
     "text": [
      "Raise to power with **\n",
      "32\n"
     ]
    }
   ],
   "source": [
    "print(\"Raise to power with **\")\n",
    "print(2**5)"
   ]
  },
  {
   "cell_type": "markdown",
   "metadata": {
    "slideshow": {
     "slide_type": "subslide"
    }
   },
   "source": [
    "## 5.1.3 Mathematical functions\n",
    "\n",
    "First import the `math` library, and call functions with `math.exp(2)` or `math.sin(3)`."
   ]
  },
  {
   "cell_type": "code",
   "execution_count": 28,
   "metadata": {
    "slideshow": {
     "slide_type": "fragment"
    }
   },
   "outputs": [
    {
     "name": "stdout",
     "output_type": "stream",
     "text": [
      "Sin(pi) is :  1.2246467991473532e-16\n"
     ]
    }
   ],
   "source": [
    "import math\n",
    "print(\"Sin(pi) is : \", math.sin(math.pi))"
   ]
  },
  {
   "cell_type": "markdown",
   "metadata": {
    "slideshow": {
     "slide_type": "fragment"
    }
   },
   "source": [
    "Or get the NumPy package and call functions with"
   ]
  },
  {
   "cell_type": "code",
   "execution_count": 35,
   "metadata": {
    "slideshow": {
     "slide_type": "fragment"
    }
   },
   "outputs": [
    {
     "name": "stdout",
     "output_type": "stream",
     "text": [
      "Sin(pi) is :  1.2246467991473532e-16\n"
     ]
    }
   ],
   "source": [
    "import numpy as np  # np is shorthand for numpy, so you don't have to type it out\n",
    "print(\"Sin(pi) is : \", np.sin(np.pi))  # you can have any shorthand name you want, like `import numpy as nmp`"
   ]
  },
  {
   "cell_type": "markdown",
   "metadata": {
    "slideshow": {
     "slide_type": "fragment"
    }
   },
   "source": [
    "### Evaluate $(\\pi + 2x)/(\\sin(x/2) + \\log_{10}(x))$ for x = 2"
   ]
  },
  {
   "cell_type": "code",
   "execution_count": 36,
   "metadata": {
    "slideshow": {
     "slide_type": "fragment"
    }
   },
   "outputs": [
    {
     "name": "stdout",
     "output_type": "stream",
     "text": [
      "5.251636631000412\n"
     ]
    }
   ],
   "source": [
    "x = 2\n",
    "y = (x + 2 * x) / (math.sin(x/2) + math.log10(x))\n",
    "print(y)"
   ]
  },
  {
   "cell_type": "markdown",
   "metadata": {
    "slideshow": {
     "slide_type": "subslide"
    }
   },
   "source": [
    "## 5.2 String (`str`)"
   ]
  },
  {
   "cell_type": "code",
   "execution_count": 5,
   "metadata": {
    "slideshow": {
     "slide_type": "fragment"
    }
   },
   "outputs": [
    {
     "name": "stdout",
     "output_type": "stream",
     "text": [
      "abcdefghijk\n"
     ]
    }
   ],
   "source": [
    "example_str = \"abcdefghijk\"\n",
    "print(example_str)"
   ]
  },
  {
   "cell_type": "code",
   "execution_count": 6,
   "metadata": {
    "slideshow": {
     "slide_type": "fragment"
    }
   },
   "outputs": [
    {
     "name": "stdout",
     "output_type": "stream",
     "text": [
      "<class 'str'>\n"
     ]
    }
   ],
   "source": [
    "print(type(example_str))"
   ]
  },
  {
   "cell_type": "code",
   "execution_count": 32,
   "metadata": {
    "slideshow": {
     "slide_type": "fragment"
    }
   },
   "outputs": [
    {
     "name": "stdout",
     "output_type": "stream",
     "text": [
      "b <class 'str'>\n"
     ]
    }
   ],
   "source": [
    "print(example_str[1], type(example_str[0]))"
   ]
  },
  {
   "cell_type": "code",
   "execution_count": 8,
   "metadata": {
    "slideshow": {
     "slide_type": "fragment"
    }
   },
   "outputs": [
    {
     "name": "stdout",
     "output_type": "stream",
     "text": [
      "abcde\n"
     ]
    }
   ],
   "source": [
    "print(example_str[0:5])"
   ]
  },
  {
   "cell_type": "code",
   "execution_count": 9,
   "metadata": {
    "slideshow": {
     "slide_type": "fragment"
    }
   },
   "outputs": [
    {
     "ename": "TypeError",
     "evalue": "string indices must be integers",
     "output_type": "error",
     "traceback": [
      "\u001b[1;31m---------------------------------------------------------------------------\u001b[0m",
      "\u001b[1;31mTypeError\u001b[0m                                 Traceback (most recent call last)",
      "\u001b[1;32m<ipython-input-9-c7dfc0f15d0e>\u001b[0m in \u001b[0;36m<module>\u001b[1;34m\u001b[0m\n\u001b[1;32m----> 1\u001b[1;33m \u001b[0mprint\u001b[0m\u001b[1;33m(\u001b[0m\u001b[0mexample_str\u001b[0m\u001b[1;33m[\u001b[0m\u001b[1;36m2.0\u001b[0m\u001b[1;33m]\u001b[0m\u001b[1;33m)\u001b[0m\u001b[1;33m\u001b[0m\u001b[0m\n\u001b[0m",
      "\u001b[1;31mTypeError\u001b[0m: string indices must be integers"
     ]
    }
   ],
   "source": [
    "print(example_str[2.0])"
   ]
  },
  {
   "cell_type": "code",
   "execution_count": 10,
   "metadata": {
    "slideshow": {
     "slide_type": "fragment"
    }
   },
   "outputs": [
    {
     "name": "stdout",
     "output_type": "stream",
     "text": [
      "Abcdefghijk string capitalization and addition\n"
     ]
    }
   ],
   "source": [
    "print(example_str.capitalize() + \" string capitalization and addition\")"
   ]
  },
  {
   "cell_type": "markdown",
   "metadata": {
    "slideshow": {
     "slide_type": "subslide"
    }
   },
   "source": [
    "## 5.3 List (`list`)\n",
    "\n",
    "For collections of things"
   ]
  },
  {
   "cell_type": "code",
   "execution_count": 16,
   "metadata": {
    "slideshow": {
     "slide_type": "fragment"
    }
   },
   "outputs": [
    {
     "name": "stdout",
     "output_type": "stream",
     "text": [
      "[1, 2.0, 'c'] <class 'list'>\n",
      "Length of list is :  3\n"
     ]
    }
   ],
   "source": [
    "example_list = [1, 2.0, \"c\"]\n",
    "print(example_list, type(example_list))\n",
    "print(\"Length of list is : \", len(example_list))"
   ]
  },
  {
   "cell_type": "code",
   "execution_count": 12,
   "metadata": {
    "slideshow": {
     "slide_type": "fragment"
    }
   },
   "outputs": [
    {
     "name": "stdout",
     "output_type": "stream",
     "text": [
      "[1] but 1\n"
     ]
    }
   ],
   "source": [
    "print(example_list[0:1], \"but\", example_list[0])"
   ]
  },
  {
   "cell_type": "code",
   "execution_count": 13,
   "metadata": {
    "slideshow": {
     "slide_type": "fragment"
    }
   },
   "outputs": [
    {
     "name": "stdout",
     "output_type": "stream",
     "text": [
      "[1, 2.0, 'c', 421323]\n"
     ]
    }
   ],
   "source": [
    "example_list.append(421323)\n",
    "print(example_list)"
   ]
  },
  {
   "cell_type": "code",
   "execution_count": 14,
   "metadata": {
    "slideshow": {
     "slide_type": "fragment"
    }
   },
   "outputs": [
    {
     "name": "stdout",
     "output_type": "stream",
     "text": [
      "Example list is : [1, 2.0, 'c', 421323]\n",
      "Example list 2 is : [1, 2.0, 'c', 421323, 'v']\n"
     ]
    }
   ],
   "source": [
    "example_list2 = example_list + [\"v\"]\n",
    "print(f\"Example list is : {example_list}\")\n",
    "print(f\"Example list 2 is : {example_list2}\")"
   ]
  },
  {
   "cell_type": "markdown",
   "metadata": {
    "slideshow": {
     "slide_type": "subslide"
    }
   },
   "source": [
    "# 5.4 Boolean (`bool`)\n",
    "\n",
    "Either `True` or `False`\n",
    "\n",
    "# TODO, optional"
   ]
  },
  {
   "cell_type": "markdown",
   "metadata": {
    "slideshow": {
     "slide_type": "subslide"
    }
   },
   "source": [
    "# 5.x Dictionary (`dict`)\n",
    "\n",
    "- Key-value pairs\n",
    "\n",
    "# TODO"
   ]
  },
  {
   "cell_type": "markdown",
   "metadata": {
    "slideshow": {
     "slide_type": "subslide"
    }
   },
   "source": [
    "# Flow control statements"
   ]
  },
  {
   "cell_type": "markdown",
   "metadata": {
    "slideshow": {
     "slide_type": "subslide"
    }
   },
   "source": [
    "# Basic plotting"
   ]
  },
  {
   "cell_type": "markdown",
   "metadata": {
    "slideshow": {
     "slide_type": "subslide"
    }
   },
   "source": [
    "# `MATLAB` stuff in `python`\n",
    "\n",
    "# TODO use Numpy/Scipy to solve a differential equation and plot it"
   ]
  },
  {
   "cell_type": "markdown",
   "metadata": {
    "slideshow": {
     "slide_type": "subslide"
    }
   },
   "source": [
    "# `R` stuff in `python`\n",
    "\n",
    "- `pandas` Dataframe in place of R dataframe"
   ]
  },
  {
   "cell_type": "markdown",
   "metadata": {
    "slideshow": {
     "slide_type": "slide"
    }
   },
   "source": [
    "# 6. Python 2 vs 3\n",
    "\n",
    "- 3.x is current\n",
    "- Support 2.x will stop by 2020\n",
    "- Some older packages may only work with 2.x\n",
    "\n",
    "## Key differences\n",
    "| Py2                |                                                Py3 | \n",
    "|---------------------|:-----------------------------------------------------------|\n",
    "| `print \"this is a string\"`          | `print(\"this is a string\")` |\n",
    "| `3/2` evaluates to `1`, of type `int`                | `3/2` evaluates to `1.5`, of type `float`|"
   ]
  },
  {
   "cell_type": "markdown",
   "metadata": {
    "slideshow": {
     "slide_type": "slide"
    }
   },
   "source": [
    "# 7. Why not python?\n",
    "\n",
    "## Slower than C, C++, Julia\n",
    "   - `numba` - magically compiles Python -> C (like `MATLAB Coder`)\n",
    "   - `Cython` - intermediate language with more fine-grained control\n",
    "   - C extensions - actual C code used by Python (like `Rcpp` in `R` and `mex` in `MATLAB`)\n",
    "\n",
    "## Package and python version conflicts\n",
    "   - Virtual environments\n",
    "   - `pipenv`\n",
    "\n",
    "## Fewer statistical packages\n",
    "  - Use R for linear models, uncommon statistical tests\n",
    "  - Can call R from Python\n"
   ]
  },
  {
   "cell_type": "markdown",
   "metadata": {
    "slideshow": {
     "slide_type": "slide"
    }
   },
   "source": [
    "# 8. Assignment\n",
    "\n",
    "## A1.1 Obtain PDB File\n",
    "\n",
    "Fill up the following function skeleton:\n",
    "```python\n",
    "def get_pdb_file(): # insert arguments\n",
    "    print() # make print output match\n",
    "    # generalize the following variables\n",
    "    file_url = \"https://files.rcsb.org/download/zzzz.pdb\"\n",
    "    download_file_name = \"zzzz.pdb\"\n",
    "    urllib.request.urlretrieve(file_url, download_file_name) # don't modify\n",
    "    print() # make print output match\n",
    "    with open(download_file_name) as file_handle: # don't modify\n",
    "        data = file_handle.read() # don't modify\n",
    "        lines = ___ # get a list of lines\n",
    "    print() # make print output match, print first line of file\n",
    "```\n",
    "\n",
    "so that when you call it:\n",
    "\n",
    "```python\n",
    "get_pdb_file(\"101M\")\n",
    "```\n",
    "\n",
    "you get the following output:\n",
    "\n",
    "```\n",
    "Going to download : 101M\n",
    "Downloaded 101M.pdb\n",
    "The first line is : HEADER    OXYGEN TRANSPORT                        13-DEC-97   101M\n",
    "```"
   ]
  },
  {
   "cell_type": "markdown",
   "metadata": {
    "slideshow": {
     "slide_type": "subslide"
    }
   },
   "source": [
    "## A2.1 Process file and plot amino acid frequencies\n",
    "\n",
    "The final plot should look like this:\n",
    "\n",
    "![Ooh a secret!](imgs\\f1.png \"Figure 1\")\n"
   ]
  },
  {
   "cell_type": "markdown",
   "metadata": {
    "slideshow": {
     "slide_type": "subslide"
    }
   },
   "source": [
    "## A2.2 (challenge) Use single letter amino acid labels on X axis\n",
    "\n",
    "The final plot should look like this:\n",
    "\n",
    "![alt text](imgs\\f2.png \"Figure 2\")\n",
    "\n",
    "### Hints\n",
    "\n",
    "1. Use the dictionary below:\n",
    "\n",
    "```python\n",
    "aa_dict = {\"ala\":\"A\", \"arg\":\"R\", \"asn\":\"N\", \"asp\":\"D\", \n",
    "           \"asx\":\"B\", \"cys\":\"C\", \"glu\":\"E\", \n",
    "           \"gln\":\"Q\",\"glx\":\"Z\",\"gly\":\"G\", \"his\":\"H\", \n",
    "           \"ile\":\"I\",\"leu\":\"L\", \"lys\":\"K\", \"met\":\"M\",\n",
    "           \"phe\":\"F\", \"pro\":\"P\", \"ser\":\"S\", \"thr\":\"T\",\n",
    "           \"trp\":\"W\", \"tyr\":\"Y\", \"val\":\"V\"}\n",
    "```"
   ]
  },
  {
   "cell_type": "markdown",
   "metadata": {
    "slideshow": {
     "slide_type": "subslide"
    }
   },
   "source": [
    "## A2.2 (challenge) Overlay two histograms + legend\n",
    "\n",
    "Overlay two histograms, one of the amino acids in the even positions and another of amino acids in the odd positions. For example, if the amino acids are : \n",
    "\n",
    "```python\n",
    "aa = [\"Gly\", \"Ala\", \"Val\", \"Leu\", \"Ile\", \"Cys\"]\n",
    "```\n",
    "\n",
    "Then make histogram of the following two lists:\n",
    "```python\n",
    "aa_odd = [\"Gly\", \"Val\", \"Ile\"]\n",
    "aa_even = [\"Ala\", \"Leu\", \"Cys\"]\n",
    "```\n",
    "\n",
    "The final plot should look like this:\n",
    "\n",
    "![alt text](imgs\\f3.png \"Figure 3\")\n",
    "\n",
    "### Hints\n",
    "1. Use the `alpha` keyword argument to `plt.hist` to set transparency (0-1, 1 is opaque).\n"
   ]
  },
  {
   "cell_type": "markdown",
   "metadata": {
    "slideshow": {
     "slide_type": "subslide"
    }
   },
   "source": [
    "# A3 Longest common substring\n",
    "\n",
    "1. Download the proteins `3SJU` and `IX7H`.\n",
    "2. Use Shiji's function to find the longest common subsequence.\n",
    "\n",
    "Hint\n",
    "- You need to convert the 3 letter sequence to the 1 letter subsequence to use the function."
   ]
  },
  {
   "cell_type": "markdown",
   "metadata": {
    "slideshow": {
     "slide_type": "fragment"
    }
   },
   "source": [
    "# TODO CONVERT 3 letter to 1 letter\n",
    "\n",
    "# TODO explain longest common subsequence"
   ]
  },
  {
   "cell_type": "code",
   "execution_count": null,
   "metadata": {},
   "outputs": [],
   "source": []
  }
 ],
 "metadata": {
  "celltoolbar": "Slideshow",
  "kernelspec": {
   "display_name": "learnpy_kernel",
   "language": "python",
   "name": "learnpy_kernel"
  },
  "language_info": {
   "codemirror_mode": {
    "name": "ipython",
    "version": 3
   },
   "file_extension": ".py",
   "mimetype": "text/x-python",
   "name": "python",
   "nbconvert_exporter": "python",
   "pygments_lexer": "ipython3",
   "version": "3.7.3"
  }
 },
 "nbformat": 4,
 "nbformat_minor": 2
}
